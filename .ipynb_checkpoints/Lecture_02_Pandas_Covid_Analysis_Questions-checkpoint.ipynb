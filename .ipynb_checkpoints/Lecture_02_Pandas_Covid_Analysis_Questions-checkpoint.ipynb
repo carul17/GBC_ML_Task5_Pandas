{
 "cells": [
  {
   "cell_type": "markdown",
   "metadata": {},
   "source": [
    "# Task: Covid-19 Data Analysis\n",
    "### This notebook is used to understand the comprehension of Data Analysis techniques using Pandas library."
   ]
  },
  {
   "cell_type": "markdown",
   "metadata": {},
   "source": [
    "### Data Source: \n",
    "https://github.com/CSSEGISandData/COVID-19/tree/master/csse_covid_19_data/csse_covid_19_daily_reports\n",
    "\n",
    "### File naming convention\n",
    "\n",
    "MM-DD-YYYY.csv in UTC.\n",
    "\n",
    "### Field description\n",
    "\n",
    "- Province_State: China - province name; US/Canada/Australia/ - city name, state/province name; Others - name of the event (e.g., \"Diamond Princess\" cruise ship); other countries - blank.\n",
    "\n",
    "- Country_Region: country/region name conforming to WHO (will be updated).\n",
    "\n",
    "- Last_Update: MM/DD/YYYY HH:mm (24 hour format, in UTC).\n",
    "\n",
    "- Confirmed: the number of confirmed cases. For Hubei Province: from Feb 13 (GMT +8), we report both clinically diagnosed and lab-confirmed cases. For lab-confirmed cases only (Before Feb 17), please refer to who_covid_19_situation_reports. For Italy, diagnosis standard might be changed since Feb 27 to \"slow the growth of new case numbers.\" (Source)\n",
    "\n",
    "- Deaths: the number of deaths.\n",
    "\n",
    "- Recovered: the number of recovered cases."
   ]
  },
  {
   "cell_type": "markdown",
   "metadata": {},
   "source": [
    "### Question 1"
   ]
  },
  {
   "cell_type": "markdown",
   "metadata": {},
   "source": [
    "#### Read the dataset"
   ]
  },
  {
   "cell_type": "code",
   "execution_count": 62,
   "metadata": {},
   "outputs": [],
   "source": [
    "import pandas as pd                                                                                           \n",
    "import matplotlib.pyplot as plt                                                                               \n",
    "import plotly.express as px                                                                                   \n",
    "import plotly.graph_objects as go                                                                             \n",
    "import numpy as np\n",
    "\n",
    "df = pd.read_csv('05-30-2020.csv')"
   ]
  },
  {
   "cell_type": "markdown",
   "metadata": {},
   "source": [
    "#### Display the top 5 rows in the data"
   ]
  },
  {
   "cell_type": "code",
   "execution_count": 63,
   "metadata": {},
   "outputs": [
    {
     "data": {
      "text/html": [
       "<div>\n",
       "<style scoped>\n",
       "    .dataframe tbody tr th:only-of-type {\n",
       "        vertical-align: middle;\n",
       "    }\n",
       "\n",
       "    .dataframe tbody tr th {\n",
       "        vertical-align: top;\n",
       "    }\n",
       "\n",
       "    .dataframe thead th {\n",
       "        text-align: right;\n",
       "    }\n",
       "</style>\n",
       "<table border=\"1\" class=\"dataframe\">\n",
       "  <thead>\n",
       "    <tr style=\"text-align: right;\">\n",
       "      <th></th>\n",
       "      <th>FIPS</th>\n",
       "      <th>Admin2</th>\n",
       "      <th>Province_State</th>\n",
       "      <th>Country_Region</th>\n",
       "      <th>Last_Update</th>\n",
       "      <th>Lat</th>\n",
       "      <th>Long_</th>\n",
       "      <th>Confirmed</th>\n",
       "      <th>Deaths</th>\n",
       "      <th>Recovered</th>\n",
       "      <th>Active</th>\n",
       "      <th>Combined_Key</th>\n",
       "      <th>Incidence_Rate</th>\n",
       "      <th>Case-Fatality_Ratio</th>\n",
       "    </tr>\n",
       "  </thead>\n",
       "  <tbody>\n",
       "    <tr>\n",
       "      <th>0</th>\n",
       "      <td>45001.0</td>\n",
       "      <td>Abbeville</td>\n",
       "      <td>South Carolina</td>\n",
       "      <td>US</td>\n",
       "      <td>2020-05-31 02:32:45</td>\n",
       "      <td>34.223334</td>\n",
       "      <td>-82.461707</td>\n",
       "      <td>39</td>\n",
       "      <td>0</td>\n",
       "      <td>0</td>\n",
       "      <td>39</td>\n",
       "      <td>Abbeville, South Carolina, US</td>\n",
       "      <td>159.008440</td>\n",
       "      <td>0.000000</td>\n",
       "    </tr>\n",
       "    <tr>\n",
       "      <th>1</th>\n",
       "      <td>22001.0</td>\n",
       "      <td>Acadia</td>\n",
       "      <td>Louisiana</td>\n",
       "      <td>US</td>\n",
       "      <td>2020-05-31 02:32:45</td>\n",
       "      <td>30.295065</td>\n",
       "      <td>-92.414197</td>\n",
       "      <td>412</td>\n",
       "      <td>23</td>\n",
       "      <td>0</td>\n",
       "      <td>389</td>\n",
       "      <td>Acadia, Louisiana, US</td>\n",
       "      <td>664.034169</td>\n",
       "      <td>5.582524</td>\n",
       "    </tr>\n",
       "    <tr>\n",
       "      <th>2</th>\n",
       "      <td>51001.0</td>\n",
       "      <td>Accomack</td>\n",
       "      <td>Virginia</td>\n",
       "      <td>US</td>\n",
       "      <td>2020-05-31 02:32:45</td>\n",
       "      <td>37.767072</td>\n",
       "      <td>-75.632346</td>\n",
       "      <td>863</td>\n",
       "      <td>12</td>\n",
       "      <td>0</td>\n",
       "      <td>851</td>\n",
       "      <td>Accomack, Virginia, US</td>\n",
       "      <td>2670.503775</td>\n",
       "      <td>1.390498</td>\n",
       "    </tr>\n",
       "    <tr>\n",
       "      <th>3</th>\n",
       "      <td>16001.0</td>\n",
       "      <td>Ada</td>\n",
       "      <td>Idaho</td>\n",
       "      <td>US</td>\n",
       "      <td>2020-05-31 02:32:45</td>\n",
       "      <td>43.452658</td>\n",
       "      <td>-116.241552</td>\n",
       "      <td>805</td>\n",
       "      <td>22</td>\n",
       "      <td>0</td>\n",
       "      <td>783</td>\n",
       "      <td>Ada, Idaho, US</td>\n",
       "      <td>167.155675</td>\n",
       "      <td>2.732919</td>\n",
       "    </tr>\n",
       "    <tr>\n",
       "      <th>4</th>\n",
       "      <td>19001.0</td>\n",
       "      <td>Adair</td>\n",
       "      <td>Iowa</td>\n",
       "      <td>US</td>\n",
       "      <td>2020-05-31 02:32:45</td>\n",
       "      <td>41.330756</td>\n",
       "      <td>-94.471059</td>\n",
       "      <td>9</td>\n",
       "      <td>0</td>\n",
       "      <td>0</td>\n",
       "      <td>9</td>\n",
       "      <td>Adair, Iowa, US</td>\n",
       "      <td>125.838926</td>\n",
       "      <td>0.000000</td>\n",
       "    </tr>\n",
       "  </tbody>\n",
       "</table>\n",
       "</div>"
      ],
      "text/plain": [
       "      FIPS     Admin2  Province_State Country_Region          Last_Update  \\\n",
       "0  45001.0  Abbeville  South Carolina             US  2020-05-31 02:32:45   \n",
       "1  22001.0     Acadia       Louisiana             US  2020-05-31 02:32:45   \n",
       "2  51001.0   Accomack        Virginia             US  2020-05-31 02:32:45   \n",
       "3  16001.0        Ada           Idaho             US  2020-05-31 02:32:45   \n",
       "4  19001.0      Adair            Iowa             US  2020-05-31 02:32:45   \n",
       "\n",
       "         Lat       Long_  Confirmed  Deaths  Recovered  Active  \\\n",
       "0  34.223334  -82.461707         39       0          0      39   \n",
       "1  30.295065  -92.414197        412      23          0     389   \n",
       "2  37.767072  -75.632346        863      12          0     851   \n",
       "3  43.452658 -116.241552        805      22          0     783   \n",
       "4  41.330756  -94.471059          9       0          0       9   \n",
       "\n",
       "                    Combined_Key  Incidence_Rate  Case-Fatality_Ratio  \n",
       "0  Abbeville, South Carolina, US      159.008440             0.000000  \n",
       "1          Acadia, Louisiana, US      664.034169             5.582524  \n",
       "2         Accomack, Virginia, US     2670.503775             1.390498  \n",
       "3                 Ada, Idaho, US      167.155675             2.732919  \n",
       "4                Adair, Iowa, US      125.838926             0.000000  "
      ]
     },
     "execution_count": 63,
     "metadata": {},
     "output_type": "execute_result"
    }
   ],
   "source": [
    "df.head()"
   ]
  },
  {
   "cell_type": "markdown",
   "metadata": {},
   "source": [
    "#### Show the information of the dataset"
   ]
  },
  {
   "cell_type": "code",
   "execution_count": 64,
   "metadata": {},
   "outputs": [
    {
     "name": "stdout",
     "output_type": "stream",
     "text": [
      "<class 'pandas.core.frame.DataFrame'>\n",
      "RangeIndex: 3566 entries, 0 to 3565\n",
      "Data columns (total 14 columns):\n",
      " #   Column               Non-Null Count  Dtype  \n",
      "---  ------               --------------  -----  \n",
      " 0   FIPS                 3024 non-null   float64\n",
      " 1   Admin2               3024 non-null   object \n",
      " 2   Province_State       3384 non-null   object \n",
      " 3   Country_Region       3566 non-null   object \n",
      " 4   Last_Update          3566 non-null   object \n",
      " 5   Lat                  3491 non-null   float64\n",
      " 6   Long_                3491 non-null   float64\n",
      " 7   Confirmed            3566 non-null   int64  \n",
      " 8   Deaths               3566 non-null   int64  \n",
      " 9   Recovered            3566 non-null   int64  \n",
      " 10  Active               3566 non-null   int64  \n",
      " 11  Combined_Key         3566 non-null   object \n",
      " 12  Incidence_Rate       3491 non-null   float64\n",
      " 13  Case-Fatality_Ratio  3498 non-null   float64\n",
      "dtypes: float64(5), int64(4), object(5)\n",
      "memory usage: 390.2+ KB\n"
     ]
    }
   ],
   "source": [
    "df.info()"
   ]
  },
  {
   "cell_type": "markdown",
   "metadata": {},
   "source": [
    "#### Show the sum of missing values of features in the dataset"
   ]
  },
  {
   "cell_type": "code",
   "execution_count": 65,
   "metadata": {},
   "outputs": [
    {
     "data": {
      "text/plain": [
       "FIPS                   542\n",
       "Admin2                 542\n",
       "Province_State         182\n",
       "Country_Region           0\n",
       "Last_Update              0\n",
       "Lat                     75\n",
       "Long_                   75\n",
       "Confirmed                0\n",
       "Deaths                   0\n",
       "Recovered                0\n",
       "Active                   0\n",
       "Combined_Key             0\n",
       "Incidence_Rate          75\n",
       "Case-Fatality_Ratio     68\n",
       "dtype: int64"
      ]
     },
     "execution_count": 65,
     "metadata": {},
     "output_type": "execute_result"
    }
   ],
   "source": [
    "df.isnull().sum()"
   ]
  },
  {
   "cell_type": "markdown",
   "metadata": {},
   "source": [
    "### Question 2"
   ]
  },
  {
   "cell_type": "markdown",
   "metadata": {},
   "source": [
    "#### Show the number of Confirmed cases by Country"
   ]
  },
  {
   "cell_type": "code",
   "execution_count": 66,
   "metadata": {},
   "outputs": [
    {
     "name": "stdout",
     "output_type": "stream",
     "text": [
      "Confirmed cases by Country:\n",
      "Country_Region\n",
      "US                      1765287\n",
      "Brazil                   502914\n",
      "Russia                   396575\n",
      "United Kingdom           274215\n",
      "Spain                    239228\n",
      "                         ...   \n",
      "Kiribati                      0\n",
      "Winter Olympics 2022          0\n",
      "Antarctica                    0\n",
      "Tonga                         0\n",
      "Samoa                         0\n",
      "Name: Confirmed, Length: 197, dtype: int64\n"
     ]
    }
   ],
   "source": [
    "# Confirmed cases by Country                                                                                  \n",
    "confirmed_by_country = df.groupby('Country_Region')['Confirmed'].sum().sort_values(ascending=False)           \n",
    "print(\"Confirmed cases by Country:\")                                                                          \n",
    "print(confirmed_by_country)                                                                                         "
   ]
  },
  {
   "cell_type": "markdown",
   "metadata": {},
   "source": [
    "#### Show the number of Deaths by Country"
   ]
  },
  {
   "cell_type": "code",
   "execution_count": 67,
   "metadata": {},
   "outputs": [
    {
     "name": "stdout",
     "output_type": "stream",
     "text": [
      "\n",
      "Deaths by Country:\n",
      "Country_Region\n",
      "US                                  104034\n",
      "United Kingdom                       52374\n",
      "Italy                                33340\n",
      "Brazil                               28896\n",
      "France                               28774\n",
      "                                     ...  \n",
      "Holy See                                 0\n",
      "Grenada                                  0\n",
      "Saint Vincent and the Grenadines         0\n",
      "Eritrea                                  0\n",
      "Laos                                     0\n",
      "Name: Deaths, Length: 197, dtype: int64\n"
     ]
    }
   ],
   "source": [
    "# Deaths by Country                                                                                           \n",
    "deaths_by_country = df.groupby('Country_Region')['Deaths'].sum().sort_values(ascending=False)                 \n",
    "print(\"\\nDeaths by Country:\")                                                                                 \n",
    "print(deaths_by_country)  "
   ]
  },
  {
   "cell_type": "markdown",
   "metadata": {},
   "source": [
    "#### Show the number of Recovered cases by Country"
   ]
  },
  {
   "cell_type": "code",
   "execution_count": 68,
   "metadata": {},
   "outputs": [
    {
     "name": "stdout",
     "output_type": "stream",
     "text": [
      "\n",
      "Recovered cases by Country:\n",
      "Country_Region\n",
      "US              416461\n",
      "Brazil          200892\n",
      "Russia          167469\n",
      "Germany         164908\n",
      "Italy           155633\n",
      "                 ...  \n",
      "MS Zaandam           0\n",
      "Korea, North         0\n",
      "Kiribati             0\n",
      "Tuvalu               0\n",
      "Tonga                0\n",
      "Name: Recovered, Length: 197, dtype: int64\n"
     ]
    }
   ],
   "source": [
    "# Recovered cases by Country                                                                                  \n",
    "recovered_by_country = df.groupby('Country_Region')['Recovered'].sum().sort_values(ascending=False)           \n",
    "print(\"\\nRecovered cases by Country:\")                                                                        \n",
    "print(recovered_by_country) "
   ]
  },
  {
   "cell_type": "markdown",
   "metadata": {},
   "source": [
    "#### Show the number of Active Cases by Country"
   ]
  },
  {
   "cell_type": "code",
   "execution_count": 69,
   "metadata": {},
   "outputs": [
    {
     "name": "stdout",
     "output_type": "stream",
     "text": [
      "\n",
      "Active cases by Country:\n",
      "Country_Region\n",
      "US                  1244792\n",
      "Brazil               273126\n",
      "Russia               224551\n",
      "United Kingdom       220654\n",
      "France                93583\n",
      "                     ...   \n",
      "Korea, North              0\n",
      "Papua New Guinea          0\n",
      "Palau                     0\n",
      "Montenegro                0\n",
      "Dominica                  0\n",
      "Name: Active, Length: 197, dtype: int64\n"
     ]
    }
   ],
   "source": [
    "# Calculate Active Cases                                                                                      \n",
    "df['Active'] = df['Confirmed'] - df['Deaths'] - df['Recovered']                                               \n",
    "active_by_country = df.groupby('Country_Region')['Active'].sum().sort_values(ascending=False)                 \n",
    "print(\"\\nActive cases by Country:\")                                                                           \n",
    "print(active_by_country) "
   ]
  },
  {
   "cell_type": "markdown",
   "metadata": {},
   "source": [
    "#### Show the latest number of Confirmed, Deaths, Recovered and Active cases Country-wise"
   ]
  },
  {
   "cell_type": "code",
   "execution_count": 70,
   "metadata": {},
   "outputs": [
    {
     "name": "stdout",
     "output_type": "stream",
     "text": [
      "\n",
      "Latest numbers by Country:\n",
      "                      Confirmed  Deaths  Recovered   Active\n",
      "Country_Region                                             \n",
      "US                      1765287  104034     416461  1244792\n",
      "Brazil                   502914   28896     200892   273126\n",
      "Russia                   396575    4555     167469   224551\n",
      "United Kingdom           274215   52374       1187   220654\n",
      "Spain                    239228   27125     150376    61727\n",
      "...                         ...     ...        ...      ...\n",
      "Kiribati                      0       0          0        0\n",
      "Winter Olympics 2022          0       0          0        0\n",
      "Antarctica                    0       0          0        0\n",
      "Tonga                         0       0          0        0\n",
      "Samoa                         0       0          0        0\n",
      "\n",
      "[197 rows x 4 columns]\n"
     ]
    }
   ],
   "source": [
    "# Latest numbers for all metrics by country                                                                   \n",
    "latest_numbers = df.groupby('Country_Region').agg({                                                           \n",
    "    'Confirmed': 'sum',                                                                                       \n",
    "    'Deaths': 'sum',                                                                                          \n",
    "    'Recovered': 'sum',                                                                                       \n",
    "    'Active': 'sum'                                                                                           \n",
    "}).sort_values('Confirmed', ascending=False)                                                                  \n",
    "print(\"\\nLatest numbers by Country:\")                                                                         \n",
    "print(latest_numbers) "
   ]
  },
  {
   "cell_type": "markdown",
   "metadata": {},
   "source": [
    "### Question 3"
   ]
  },
  {
   "cell_type": "markdown",
   "metadata": {},
   "source": [
    "### Show the countries with no recovered cases"
   ]
  },
  {
   "cell_type": "code",
   "execution_count": 71,
   "metadata": {},
   "outputs": [
    {
     "name": "stdout",
     "output_type": "stream",
     "text": [
      "Countries with no recovered cases:\n",
      "['MS Zaandam', 'Summer Olympics 2020', 'Nauru', 'Palau', 'Tuvalu', 'Korea, North', 'Kiribati', 'Winter Olympics 2022', 'Antarctica', 'Tonga', 'Samoa']\n"
     ]
    }
   ],
   "source": [
    "# Countries with no recovered cases                                                                           \n",
    "no_recovered = latest_numbers[latest_numbers['Recovered'] == 0].index.tolist()                                \n",
    "print(\"Countries with no recovered cases:\")                                                                   \n",
    "print(no_recovered)"
   ]
  },
  {
   "cell_type": "markdown",
   "metadata": {},
   "source": [
    "#### Show the countries with no confirmed cases"
   ]
  },
  {
   "cell_type": "code",
   "execution_count": 72,
   "metadata": {},
   "outputs": [
    {
     "name": "stdout",
     "output_type": "stream",
     "text": [
      "\n",
      "Countries with no confirmed cases:\n",
      "['Summer Olympics 2020', 'Nauru', 'Palau', 'Tuvalu', 'Korea, North', 'Kiribati', 'Winter Olympics 2022', 'Antarctica', 'Tonga', 'Samoa']\n"
     ]
    }
   ],
   "source": [
    "# Countries with no confirmed cases                                                                           \n",
    "no_confirmed = latest_numbers[latest_numbers['Confirmed'] == 0].index.tolist()                                \n",
    "print(\"\\nCountries with no confirmed cases:\")                                                                 \n",
    "print(no_confirmed) "
   ]
  },
  {
   "cell_type": "markdown",
   "metadata": {},
   "source": [
    "#### Show the countries with no deaths"
   ]
  },
  {
   "cell_type": "code",
   "execution_count": 73,
   "metadata": {},
   "outputs": [
    {
     "name": "stdout",
     "output_type": "stream",
     "text": [
      "\n",
      "Countries with no deaths:\n",
      "['Uganda', 'Vietnam', 'Mongolia', 'Cambodia', 'Eritrea', 'Bhutan', 'Saint Vincent and the Grenadines', 'Timor-Leste', 'Namibia', 'Grenada', 'Laos', 'Fiji', 'Saint Lucia', 'Dominica', 'Saint Kitts and Nevis', 'Holy See', 'Seychelles', 'Papua New Guinea', 'Lesotho', 'Summer Olympics 2020', 'Nauru', 'Palau', 'Tuvalu', 'Korea, North', 'Kiribati', 'Winter Olympics 2022', 'Antarctica', 'Tonga', 'Samoa']\n"
     ]
    }
   ],
   "source": [
    "# Countries with no deaths                                                                                    \n",
    "no_deaths = latest_numbers[latest_numbers['Deaths'] == 0].index.tolist()                                      \n",
    "print(\"\\nCountries with no deaths:\")                                                                          \n",
    "print(no_deaths) "
   ]
  },
  {
   "cell_type": "markdown",
   "metadata": {},
   "source": [
    "### Question 4"
   ]
  },
  {
   "cell_type": "markdown",
   "metadata": {},
   "source": [
    "#### Show the Top 10 countries with Confirmed cases"
   ]
  },
  {
   "cell_type": "code",
   "execution_count": 74,
   "metadata": {},
   "outputs": [
    {
     "name": "stdout",
     "output_type": "stream",
     "text": [
      "\n",
      "Top 10 Countries with Confirmed Cases:\n",
      "                Confirmed  Deaths  Recovered   Active\n",
      "Country_Region                                       \n",
      "US                1765287  104034     416461  1244792\n",
      "Brazil             502914   28896     200892   273126\n",
      "Russia             396575    4555     167469   224551\n",
      "United Kingdom     274215   52374       1187   220654\n",
      "Spain              239228   27125     150376    61727\n",
      "Italy              232664   33340     155633    43691\n",
      "France             190743   28774      68386    93583\n",
      "Germany            182842    8489     164908     9445\n",
      "India              181827    5185      86936    89706\n",
      "Turkey             163103    4515     126984    31604\n"
     ]
    }
   ],
   "source": [
    "# Top 10 countries with confirmed cases                                                      \n",
    "top_10_confirmed = latest_numbers.nlargest(10, 'Confirmed')\n",
    "print(\"\\nTop 10 Countries with Confirmed Cases:\")                                            \n",
    "print(top_10_confirmed) "
   ]
  },
  {
   "cell_type": "markdown",
   "metadata": {},
   "source": [
    "#### Show the Top 10 Countries with Active cases"
   ]
  },
  {
   "cell_type": "code",
   "execution_count": 75,
   "metadata": {},
   "outputs": [
    {
     "name": "stdout",
     "output_type": "stream",
     "text": [
      "\n",
      "Top 10 Countries with Active Cases:\n",
      "                Confirmed  Deaths  Recovered   Active\n",
      "Country_Region                                       \n",
      "US                1765287  104034     416461  1244792\n",
      "Brazil             502914   28896     200892   273126\n",
      "Russia             396575    4555     167469   224551\n",
      "United Kingdom     274215   52374       1187   220654\n",
      "France             190743   28774      68386    93583\n",
      "India              181827    5185      86936    89706\n",
      "Peru               155671   20111      66447    69113\n",
      "Spain              239228   27125     150376    61727\n",
      "Chile               94858     997      40431    53430\n",
      "Italy              232664   33340     155633    43691\n"
     ]
    }
   ],
   "source": [
    "# Top 10 countries with active cases                                                                          \n",
    "top_10_confirmed = latest_numbers.nlargest(10, 'Active')\n",
    "print(\"\\nTop 10 Countries with Active Cases:\")                                            \n",
    "print(top_10_confirmed) "
   ]
  },
  {
   "cell_type": "markdown",
   "metadata": {},
   "source": [
    "### Question 5"
   ]
  },
  {
   "cell_type": "markdown",
   "metadata": {},
   "source": [
    "#### Plot Country-wise Total deaths, confirmed, recovered and active casaes where total deaths have exceeded 50,000"
   ]
  },
  {
   "cell_type": "code",
   "execution_count": 76,
   "metadata": {},
   "outputs": [
    {
     "ename": "ValueError",
     "evalue": "Mime type rendering requires nbformat>=4.2.0 but it is not installed",
     "output_type": "error",
     "traceback": [
      "\u001b[0;31m---------------------------------------------------------------------------\u001b[0m",
      "\u001b[0;31mValueError\u001b[0m                                Traceback (most recent call last)",
      "Cell \u001b[0;32mIn[76], line 14\u001b[0m\n\u001b[1;32m      6\u001b[0m     fig\u001b[38;5;241m.\u001b[39madd_bar(name\u001b[38;5;241m=\u001b[39mmetric,                                                                                  \n\u001b[1;32m      7\u001b[0m                 x\u001b[38;5;241m=\u001b[39mhigh_death_countries\u001b[38;5;241m.\u001b[39mindex,                                                                 \n\u001b[1;32m      8\u001b[0m                 y\u001b[38;5;241m=\u001b[39mhigh_death_countries[metric])                                                               \n\u001b[1;32m     10\u001b[0m fig\u001b[38;5;241m.\u001b[39mupdate_layout(title\u001b[38;5;241m=\u001b[39m\u001b[38;5;124m'\u001b[39m\u001b[38;5;124mCountries with Deaths > 50,000\u001b[39m\u001b[38;5;124m'\u001b[39m,                                                     \n\u001b[1;32m     11\u001b[0m                 barmode\u001b[38;5;241m=\u001b[39m\u001b[38;5;124m'\u001b[39m\u001b[38;5;124mgroup\u001b[39m\u001b[38;5;124m'\u001b[39m,                                                                             \n\u001b[1;32m     12\u001b[0m                 xaxis_title\u001b[38;5;241m=\u001b[39m\u001b[38;5;124m'\u001b[39m\u001b[38;5;124mCountry\u001b[39m\u001b[38;5;124m'\u001b[39m,                                                                       \n\u001b[1;32m     13\u001b[0m                 yaxis_title\u001b[38;5;241m=\u001b[39m\u001b[38;5;124m'\u001b[39m\u001b[38;5;124mNumber of Cases\u001b[39m\u001b[38;5;124m'\u001b[39m)                                                               \n\u001b[0;32m---> 14\u001b[0m \u001b[43mfig\u001b[49m\u001b[38;5;241;43m.\u001b[39;49m\u001b[43mshow\u001b[49m\u001b[43m(\u001b[49m\u001b[43m)\u001b[49m  \n",
      "File \u001b[0;32m~/Documents/George Brown Courses/machine_learning_1/Task5/.venv/lib/python3.13/site-packages/plotly/basedatatypes.py:3410\u001b[0m, in \u001b[0;36mBaseFigure.show\u001b[0;34m(self, *args, **kwargs)\u001b[0m\n\u001b[1;32m   3377\u001b[0m \u001b[38;5;250m\u001b[39m\u001b[38;5;124;03m\"\"\"\u001b[39;00m\n\u001b[1;32m   3378\u001b[0m \u001b[38;5;124;03mShow a figure using either the default renderer(s) or the renderer(s)\u001b[39;00m\n\u001b[1;32m   3379\u001b[0m \u001b[38;5;124;03mspecified by the renderer argument\u001b[39;00m\n\u001b[0;32m   (...)\u001b[0m\n\u001b[1;32m   3406\u001b[0m \u001b[38;5;124;03mNone\u001b[39;00m\n\u001b[1;32m   3407\u001b[0m \u001b[38;5;124;03m\"\"\"\u001b[39;00m\n\u001b[1;32m   3408\u001b[0m \u001b[38;5;28;01mimport\u001b[39;00m\u001b[38;5;250m \u001b[39m\u001b[38;5;21;01mplotly\u001b[39;00m\u001b[38;5;21;01m.\u001b[39;00m\u001b[38;5;21;01mio\u001b[39;00m\u001b[38;5;250m \u001b[39m\u001b[38;5;28;01mas\u001b[39;00m\u001b[38;5;250m \u001b[39m\u001b[38;5;21;01mpio\u001b[39;00m\n\u001b[0;32m-> 3410\u001b[0m \u001b[38;5;28;01mreturn\u001b[39;00m \u001b[43mpio\u001b[49m\u001b[38;5;241;43m.\u001b[39;49m\u001b[43mshow\u001b[49m\u001b[43m(\u001b[49m\u001b[38;5;28;43mself\u001b[39;49m\u001b[43m,\u001b[49m\u001b[43m \u001b[49m\u001b[38;5;241;43m*\u001b[39;49m\u001b[43margs\u001b[49m\u001b[43m,\u001b[49m\u001b[43m \u001b[49m\u001b[38;5;241;43m*\u001b[39;49m\u001b[38;5;241;43m*\u001b[39;49m\u001b[43mkwargs\u001b[49m\u001b[43m)\u001b[49m\n",
      "File \u001b[0;32m~/Documents/George Brown Courses/machine_learning_1/Task5/.venv/lib/python3.13/site-packages/plotly/io/_renderers.py:394\u001b[0m, in \u001b[0;36mshow\u001b[0;34m(fig, renderer, validate, **kwargs)\u001b[0m\n\u001b[1;32m    389\u001b[0m         \u001b[38;5;28;01mraise\u001b[39;00m \u001b[38;5;167;01mValueError\u001b[39;00m(\n\u001b[1;32m    390\u001b[0m             \u001b[38;5;124m\"\u001b[39m\u001b[38;5;124mMime type rendering requires ipython but it is not installed\u001b[39m\u001b[38;5;124m\"\u001b[39m\n\u001b[1;32m    391\u001b[0m         )\n\u001b[1;32m    393\u001b[0m     \u001b[38;5;28;01mif\u001b[39;00m \u001b[38;5;129;01mnot\u001b[39;00m nbformat \u001b[38;5;129;01mor\u001b[39;00m Version(nbformat\u001b[38;5;241m.\u001b[39m__version__) \u001b[38;5;241m<\u001b[39m Version(\u001b[38;5;124m\"\u001b[39m\u001b[38;5;124m4.2.0\u001b[39m\u001b[38;5;124m\"\u001b[39m):\n\u001b[0;32m--> 394\u001b[0m         \u001b[38;5;28;01mraise\u001b[39;00m \u001b[38;5;167;01mValueError\u001b[39;00m(\n\u001b[1;32m    395\u001b[0m             \u001b[38;5;124m\"\u001b[39m\u001b[38;5;124mMime type rendering requires nbformat>=4.2.0 but it is not installed\u001b[39m\u001b[38;5;124m\"\u001b[39m\n\u001b[1;32m    396\u001b[0m         )\n\u001b[1;32m    398\u001b[0m     ipython_display\u001b[38;5;241m.\u001b[39mdisplay(bundle, raw\u001b[38;5;241m=\u001b[39m\u001b[38;5;28;01mTrue\u001b[39;00m)\n\u001b[1;32m    400\u001b[0m \u001b[38;5;66;03m# external renderers\u001b[39;00m\n",
      "\u001b[0;31mValueError\u001b[0m: Mime type rendering requires nbformat>=4.2.0 but it is not installed"
     ]
    }
   ],
   "source": [
    "# Countries with deaths > 50,000                                                                              \n",
    "high_death_countries = latest_numbers[latest_numbers['Deaths'] > 50000]                                       \n",
    "                                                                                                            \n",
    "fig = go.Figure()                                                                                             \n",
    "for metric in ['Deaths', 'Confirmed', 'Recovered', 'Active']:                                                 \n",
    "    fig.add_bar(name=metric,                                                                                  \n",
    "                x=high_death_countries.index,                                                                 \n",
    "                y=high_death_countries[metric])                                                               \n",
    "                                                                                                            \n",
    "fig.update_layout(title='Countries with Deaths > 50,000',                                                     \n",
    "                barmode='group',                                                                             \n",
    "                xaxis_title='Country',                                                                       \n",
    "                yaxis_title='Number of Cases')                                                               \n",
    "fig.show()  "
   ]
  },
  {
   "cell_type": "markdown",
   "metadata": {},
   "source": [
    "### Question 6"
   ]
  },
  {
   "cell_type": "markdown",
   "metadata": {},
   "source": [
    "### Plot Province/State wise Deaths in USA"
   ]
  },
  {
   "cell_type": "code",
   "execution_count": 18,
   "metadata": {},
   "outputs": [],
   "source": [
    "import plotly.express as px"
   ]
  },
  {
   "cell_type": "code",
   "execution_count": null,
   "metadata": {},
   "outputs": [],
   "source": [
    "df.columns"
   ]
  },
  {
   "cell_type": "code",
   "execution_count": null,
   "metadata": {},
   "outputs": [],
   "source": [
    "# Filter USA data                                                                                             \n",
    "usa_data = df[df['Country_Region'] == 'US'] "
   ]
  },
  {
   "cell_type": "code",
   "execution_count": null,
   "metadata": {},
   "outputs": [],
   "source": [
    "# Deaths by state                                                                                             \n",
    "fig_deaths = px.bar(usa_data,                                                                                 \n",
    "                x='Province_State',                                                                        \n",
    "                y='Deaths',                                                                                \n",
    "                title='Deaths by State in USA')                                                            \n",
    "fig_deaths.update_xaxes(tickangle=45)                                                                         \n",
    "fig_deaths.show() "
   ]
  },
  {
   "cell_type": "markdown",
   "metadata": {},
   "source": [
    "### Question 7"
   ]
  },
  {
   "cell_type": "markdown",
   "metadata": {},
   "source": [
    "### Plot Province/State Wise Active Cases in USA"
   ]
  },
  {
   "cell_type": "code",
   "execution_count": null,
   "metadata": {},
   "outputs": [],
   "source": [
    "# Active cases by state                                                                                       \n",
    "fig_active = px.bar(usa_data,                                                                                 \n",
    "                x='Province_State',                                                                        \n",
    "                y='Active',                                                                                \n",
    "                title='Active Cases by State in USA')                                                      \n",
    "fig_active.update_xaxes(tickangle=45)                                                                         \n",
    "fig_active.show()  "
   ]
  },
  {
   "cell_type": "markdown",
   "metadata": {},
   "source": [
    "### Question 8"
   ]
  },
  {
   "cell_type": "markdown",
   "metadata": {},
   "source": [
    "### Plot Province/State Wise Confirmed cases in USA"
   ]
  },
  {
   "cell_type": "code",
   "execution_count": null,
   "metadata": {},
   "outputs": [],
   "source": [
    "# Confirmed cases by state                                                                                    \n",
    "fig_confirmed = px.bar(usa_data,                                                                              \n",
    "                    x='Province_State',                                                                     \n",
    "                    y='Confirmed',                                                                          \n",
    "                    title='Confirmed Cases by State in USA')                                                \n",
    "fig_confirmed.update_xaxes(tickangle=45)                                                                      \n",
    "fig_confirmed.show()"
   ]
  },
  {
   "cell_type": "markdown",
   "metadata": {},
   "source": [
    "### Question 9"
   ]
  },
  {
   "cell_type": "markdown",
   "metadata": {},
   "source": [
    "### Plot Worldwide Confirmed Cases over time"
   ]
  },
  {
   "cell_type": "code",
   "execution_count": 24,
   "metadata": {},
   "outputs": [],
   "source": [
    "import plotly.express as px\n",
    "import plotly.io as pio"
   ]
  },
  {
   "cell_type": "code",
   "execution_count": null,
   "metadata": {},
   "outputs": [],
   "source": [
    "# Convert Last_Update to datetime                                                                             \n",
    "df['Last_Update'] = pd.to_datetime(df['Last_Update'])                                                         \n",
    "                                                                                                            \n",
    "# Group by date and sum confirmed cases                                                                       \n",
    "worldwide_cases = df.groupby('Last_Update')['Confirmed'].sum().reset_index()                                  \n",
    "                                                                                                            \n",
    "# Create time series plot                                                                                     \n",
    "fig = px.line(worldwide_cases,                                                                                \n",
    "            x='Last_Update',                                                                                \n",
    "            y='Confirmed',                                                                                  \n",
    "            title='Worldwide Confirmed Cases Over Time')                                                    \n",
    "fig.show()"
   ]
  }
 ],
 "metadata": {
  "kernelspec": {
   "display_name": ".venv",
   "language": "python",
   "name": "python3"
  },
  "language_info": {
   "codemirror_mode": {
    "name": "ipython",
    "version": 3
   },
   "file_extension": ".py",
   "mimetype": "text/x-python",
   "name": "python",
   "nbconvert_exporter": "python",
   "pygments_lexer": "ipython3",
   "version": "3.13.1"
  }
 },
 "nbformat": 4,
 "nbformat_minor": 4
}
